{
 "nbformat": 4,
 "nbformat_minor": 2,
 "metadata": {
  "language_info": {
   "name": "python",
   "codemirror_mode": {
    "name": "ipython",
    "version": 3
   },
   "version": "3.10.0-final"
  },
  "orig_nbformat": 2,
  "file_extension": ".py",
  "mimetype": "text/x-python",
  "name": "python",
  "npconvert_exporter": "python",
  "pygments_lexer": "ipython3",
  "version": 3,
  "kernelspec": {
   "name": "python310064bitfb335e516cf1419fa40eefd43c9b328c",
   "display_name": "Python 3.10.0 64-bit"
  }
 },
 "cells": [
  {
   "cell_type": "code",
   "execution_count": 195,
   "metadata": {},
   "outputs": [],
   "source": [
    "import numpy as np\n",
    "import pandas as pd\n",
    "from sklearn.linear_model import LinearRegression"
   ]
  },
  {
   "cell_type": "code",
   "execution_count": 174,
   "metadata": {},
   "outputs": [],
   "source": [
    "ndvi_df = pd.read_csv('Eight Day NDVI.csv')\n",
    "soil_df = pd.read_csv('Daily Soil Mositure.csv')\n",
    "temperature_df = pd.read_csv('Daily Temperature.csv')\n",
    "production_df = pd.read_csv('Production Quantity.csv')\n",
    "precipitation_df = pd.read_csv('Daily Precipitation.csv')"
   ]
  },
  {
   "cell_type": "code",
   "execution_count": 175,
   "metadata": {},
   "outputs": [],
   "source": [
    "ndvi_df['year'] = pd.to_datetime(ndvi_df['start_date']).dt.year\n",
    "ndvi_df['month'] = pd.to_datetime(ndvi_df['start_date']).dt.month\n",
    "\n",
    "soil_df['year'] = pd.to_datetime(soil_df['start_date']).dt.year\n",
    "soil_df['month'] = pd.to_datetime(soil_df['start_date']).dt.month\n",
    "\n",
    "precipitation_df['year'] = pd.to_datetime(precipitation_df['start_date']).dt.year\n",
    "precipitation_df['month'] = pd.to_datetime(precipitation_df['start_date']).dt.month\n",
    "\n",
    "temperature_df['year'] = pd.to_datetime(temperature_df['start_date']).dt.year\n",
    "temperature_df['month'] = pd.to_datetime(temperature_df['start_date']).dt.month\n",
    "\n",
    "production_df['year'] = pd.to_datetime(production_df['start_date']).dt.year\n",
    "production_df['month'] = pd.to_datetime(production_df['start_date']).dt.month"
   ]
  },
  {
   "cell_type": "code",
   "execution_count": 176,
   "metadata": {},
   "outputs": [],
   "source": [
    "ndvi_avg = ndvi_df.groupby(['region_id', ndvi_df['year'], ndvi_df['month']])['ndvi'].mean().reset_index(name = 'ndvi')\n",
    "soil_avg = soil_df.groupby(['region_id', soil_df['year'], soil_df['month']])['smos'].mean().reset_index(name = 'moisture')\n",
    "temp_avg = temperature_df.groupby(['region_id', temperature_df['year'], temperature_df['month']])['temp'].mean().reset_index(name = 'temperature')\n",
    "precip_avg = precipitation_df.groupby(['region_id', precipitation_df['year'], precipitation_df['month']])['precip'].mean().reset_index(name = 'precipitation')"
   ]
  },
  {
   "cell_type": "code",
   "execution_count": 177,
   "metadata": {},
   "outputs": [],
   "source": [
    "temp_soil = pd.merge(temp_avg, soil_avg, on = [\"region_id\", \"year\", \"month\"])\n",
    "temp_soil_precip = pd.merge(temp_soil, precip_avg, on = [\"region_id\", \"year\", \"month\"])\n",
    "temp_soil_precip_ndvi_df = pd.merge(temp_soil_precip, ndvi_avg, on = [\"region_id\", \"year\", \"month\"])\n",
    "# temp_soil_precip_ndvi_df"
   ]
  },
  {
   "cell_type": "code",
   "execution_count": 178,
   "metadata": {},
   "outputs": [],
   "source": [
    "temp_soil_precip_ndvi_norm_df = (temp_soil_precip_ndvi_df - temp_soil_precip_ndvi_df.min())/(temp_soil_precip_ndvi_df.max()-temp_soil_precip_ndvi_df.min())\n",
    "# temp_soil_precip_ndvi_norm_df"
   ]
  },
  {
   "cell_type": "code",
   "execution_count": 179,
   "metadata": {},
   "outputs": [],
   "source": [
    "temp_soil_precip_ndvi_norm_df['region_id'] = temp_soil_precip_ndvi_df['region_id']\n",
    "temp_soil_precip_ndvi_norm_df['year'] = temp_soil_precip_ndvi_df['year']\n",
    "temp_soil_precip_ndvi_norm_df['month'] = temp_soil_precip_ndvi_df['month']\n",
    "# temp_soil_precip_ndvi_norm_df "
   ]
  },
  {
   "cell_type": "code",
   "execution_count": 186,
   "metadata": {},
   "outputs": [
    {
     "data": {
      "text/html": "<div>\n<style scoped>\n    .dataframe tbody tr th:only-of-type {\n        vertical-align: middle;\n    }\n\n    .dataframe tbody tr th {\n        vertical-align: top;\n    }\n\n    .dataframe thead th {\n        text-align: right;\n    }\n</style>\n<table border=\"1\" class=\"dataframe\">\n  <thead>\n    <tr style=\"text-align: right;\">\n      <th></th>\n      <th>region_id</th>\n      <th>temperature</th>\n      <th>moisture</th>\n      <th>precipitation</th>\n      <th>ndvi</th>\n    </tr>\n  </thead>\n  <tbody>\n    <tr>\n      <th>84</th>\n      <td>93</td>\n      <td>0.276787</td>\n      <td>0.929327</td>\n      <td>0.432124</td>\n      <td>0.753153</td>\n    </tr>\n    <tr>\n      <th>85</th>\n      <td>93</td>\n      <td>0.464329</td>\n      <td>0.790686</td>\n      <td>0.009145</td>\n      <td>0.650753</td>\n    </tr>\n    <tr>\n      <th>86</th>\n      <td>93</td>\n      <td>0.605155</td>\n      <td>0.649088</td>\n      <td>0.189481</td>\n      <td>0.724333</td>\n    </tr>\n    <tr>\n      <th>87</th>\n      <td>93</td>\n      <td>0.571190</td>\n      <td>0.780011</td>\n      <td>0.227691</td>\n      <td>0.866430</td>\n    </tr>\n    <tr>\n      <th>88</th>\n      <td>93</td>\n      <td>0.467854</td>\n      <td>0.723631</td>\n      <td>0.246405</td>\n      <td>0.895116</td>\n    </tr>\n    <tr>\n      <th>...</th>\n      <td>...</td>\n      <td>...</td>\n      <td>...</td>\n      <td>...</td>\n      <td>...</td>\n    </tr>\n    <tr>\n      <th>978</th>\n      <td>105</td>\n      <td>0.450528</td>\n      <td>0.509700</td>\n      <td>0.217596</td>\n      <td>0.864120</td>\n    </tr>\n    <tr>\n      <th>979</th>\n      <td>105</td>\n      <td>0.441132</td>\n      <td>0.467040</td>\n      <td>0.246801</td>\n      <td>0.846155</td>\n    </tr>\n    <tr>\n      <th>980</th>\n      <td>105</td>\n      <td>0.471669</td>\n      <td>0.533600</td>\n      <td>0.202741</td>\n      <td>0.802791</td>\n    </tr>\n    <tr>\n      <th>981</th>\n      <td>105</td>\n      <td>0.300689</td>\n      <td>0.845618</td>\n      <td>0.450888</td>\n      <td>0.814903</td>\n    </tr>\n    <tr>\n      <th>982</th>\n      <td>105</td>\n      <td>0.252293</td>\n      <td>0.932973</td>\n      <td>0.406163</td>\n      <td>0.793275</td>\n    </tr>\n  </tbody>\n</table>\n<p>120 rows × 5 columns</p>\n</div>",
      "text/plain": "     region_id  temperature  moisture  precipitation      ndvi\n84          93     0.276787  0.929327       0.432124  0.753153\n85          93     0.464329  0.790686       0.009145  0.650753\n86          93     0.605155  0.649088       0.189481  0.724333\n87          93     0.571190  0.780011       0.227691  0.866430\n88          93     0.467854  0.723631       0.246405  0.895116\n..         ...          ...       ...            ...       ...\n978        105     0.450528  0.509700       0.217596  0.864120\n979        105     0.441132  0.467040       0.246801  0.846155\n980        105     0.471669  0.533600       0.202741  0.802791\n981        105     0.300689  0.845618       0.450888  0.814903\n982        105     0.252293  0.932973       0.406163  0.793275\n\n[120 rows x 5 columns]"
     },
     "execution_count": 186,
     "metadata": {},
     "output_type": "execute_result"
    }
   ],
   "source": [
    "X_test_df = temp_soil_precip_ndvi_norm_df[temp_soil_precip_ndvi_norm_df['year'] == 2021]\n",
    "X_test_df = X_test_df = X_test_df.drop(['year', 'month'],axis=1)\n",
    "X_test_df"
   ]
  },
  {
   "cell_type": "code",
   "execution_count": 188,
   "metadata": {},
   "outputs": [
    {
     "data": {
      "text/html": "<div>\n<style scoped>\n    .dataframe tbody tr th:only-of-type {\n        vertical-align: middle;\n    }\n\n    .dataframe tbody tr th {\n        vertical-align: top;\n    }\n\n    .dataframe thead th {\n        text-align: right;\n    }\n</style>\n<table border=\"1\" class=\"dataframe\">\n  <thead>\n    <tr style=\"text-align: right;\">\n      <th></th>\n      <th>region_id</th>\n      <th>temperature</th>\n      <th>moisture</th>\n      <th>precipitation</th>\n      <th>ndvi</th>\n      <th>prod</th>\n    </tr>\n  </thead>\n  <tbody>\n    <tr>\n      <th>0</th>\n      <td>93</td>\n      <td>0.267484</td>\n      <td>0.640887</td>\n      <td>0.120192</td>\n      <td>0.618041</td>\n      <td>171725</td>\n    </tr>\n    <tr>\n      <th>1</th>\n      <td>93</td>\n      <td>0.455030</td>\n      <td>0.570826</td>\n      <td>0.029788</td>\n      <td>0.608247</td>\n      <td>188325</td>\n    </tr>\n    <tr>\n      <th>2</th>\n      <td>93</td>\n      <td>0.470265</td>\n      <td>0.468751</td>\n      <td>0.093544</td>\n      <td>0.581497</td>\n      <td>247856</td>\n    </tr>\n    <tr>\n      <th>3</th>\n      <td>93</td>\n      <td>0.469720</td>\n      <td>0.460857</td>\n      <td>0.292363</td>\n      <td>0.720801</td>\n      <td>282791</td>\n    </tr>\n    <tr>\n      <th>4</th>\n      <td>93</td>\n      <td>0.309228</td>\n      <td>0.542776</td>\n      <td>0.251008</td>\n      <td>0.807937</td>\n      <td>291057</td>\n    </tr>\n    <tr>\n      <th>...</th>\n      <td>...</td>\n      <td>...</td>\n      <td>...</td>\n      <td>...</td>\n      <td>...</td>\n      <td>...</td>\n    </tr>\n    <tr>\n      <th>711</th>\n      <td>105</td>\n      <td>0.519177</td>\n      <td>0.401056</td>\n      <td>0.212087</td>\n      <td>0.843223</td>\n      <td>57818</td>\n    </tr>\n    <tr>\n      <th>712</th>\n      <td>105</td>\n      <td>0.572812</td>\n      <td>0.534697</td>\n      <td>0.189893</td>\n      <td>0.831680</td>\n      <td>57474</td>\n    </tr>\n    <tr>\n      <th>713</th>\n      <td>105</td>\n      <td>0.480106</td>\n      <td>0.535196</td>\n      <td>0.315336</td>\n      <td>0.850742</td>\n      <td>51821</td>\n    </tr>\n    <tr>\n      <th>714</th>\n      <td>105</td>\n      <td>0.237488</td>\n      <td>0.598133</td>\n      <td>0.496803</td>\n      <td>0.799011</td>\n      <td>44947</td>\n    </tr>\n    <tr>\n      <th>715</th>\n      <td>105</td>\n      <td>0.148254</td>\n      <td>0.720531</td>\n      <td>0.413875</td>\n      <td>0.745963</td>\n      <td>35728</td>\n    </tr>\n  </tbody>\n</table>\n<p>716 rows × 6 columns</p>\n</div>",
      "text/plain": "     region_id  temperature  moisture  precipitation      ndvi    prod\n0           93     0.267484  0.640887       0.120192  0.618041  171725\n1           93     0.455030  0.570826       0.029788  0.608247  188325\n2           93     0.470265  0.468751       0.093544  0.581497  247856\n3           93     0.469720  0.460857       0.292363  0.720801  282791\n4           93     0.309228  0.542776       0.251008  0.807937  291057\n..         ...          ...       ...            ...       ...     ...\n711        105     0.519177  0.401056       0.212087  0.843223   57818\n712        105     0.572812  0.534697       0.189893  0.831680   57474\n713        105     0.480106  0.535196       0.315336  0.850742   51821\n714        105     0.237488  0.598133       0.496803  0.799011   44947\n715        105     0.148254  0.720531       0.413875  0.745963   35728\n\n[716 rows x 6 columns]"
     },
     "execution_count": 188,
     "metadata": {},
     "output_type": "execute_result"
    }
   ],
   "source": [
    "train_df = pd.merge(temp_soil_precip_ndvi_norm_df, production_df, on=[\"region_id\", \"year\", \"month\"])\n",
    "train_df = train_df.drop(['start_date', 'end_date', 'year', 'month'],axis=1)\n",
    "train_df"
   ]
  },
  {
   "cell_type": "code",
   "execution_count": 200,
   "metadata": {},
   "outputs": [],
   "source": [
    "def get_train_data(region_id, train_df):\n",
    "    train = train_df[train_df['region_id']==region_id]\n",
    "    train = train.drop(['region_id'],axis=1)\n",
    "    X_train = pd.DataFrame(train[['temperature','moisture','precipitation','ndvi']])\n",
    "    y_train = pd.DataFrame(train['prod'])\n",
    "    return X_train, y_train"
   ]
  },
  {
   "cell_type": "code",
   "execution_count": 201,
   "metadata": {},
   "outputs": [],
   "source": [
    "def get_test_data(region_id, test_df):\n",
    "    test = test_df[test_df['region_id']==region_id]\n",
    "    X_test = test.drop(['region_id'],axis=1)\n",
    "    return X_test"
   ]
  },
  {
   "cell_type": "code",
   "execution_count": 212,
   "metadata": {},
   "outputs": [],
   "source": [
    "def production_prediction(X_train, y_train, X_test):\n",
    "    model = LinearRegression()\n",
    "    model.fit(X_train,y_train)\n",
    "    return model.predict(X_test)"
   ]
  },
  {
   "cell_type": "code",
   "execution_count": 226,
   "metadata": {},
   "outputs": [],
   "source": [
    "predictions = []\n",
    "regions = train_df['region_id'].unique()\n",
    "for region in regions:\n",
    "    X_train, y_train = get_train_data(region, train_df)\n",
    "    X_test = get_test_data(region, X_test_df)\n",
    "    predict = np.asarray(production_prediction(X_train, y_train, X_test),dtype = 'int')\n",
    "    predictions.append(predict)\n",
    "    # predictions.append(production_prediction(X_train, y_train, X_test))\n",
    "predictions = np.array(predictions)\n",
    "predictions = predictions.flatten()"
   ]
  },
  {
   "cell_type": "code",
   "execution_count": 248,
   "metadata": {},
   "outputs": [],
   "source": [
    "output = pd.read_csv('predicted_production_qty.csv')\n",
    "output_df = pd.DataFrame(data = predictions)\n",
    "output['prod'] = output_df[0]\n",
    "output = output.reindex(columns =['start_date', 'end_date',  'region_id', 'prod' ])\n",
    "output.to_csv('mdskabid@usc.edu.csv')"
   ]
  },
  {
   "cell_type": "code",
   "execution_count": 249,
   "metadata": {},
   "outputs": [
    {
     "data": {
      "text/html": "<div>\n<style scoped>\n    .dataframe tbody tr th:only-of-type {\n        vertical-align: middle;\n    }\n\n    .dataframe tbody tr th {\n        vertical-align: top;\n    }\n\n    .dataframe thead th {\n        text-align: right;\n    }\n</style>\n<table border=\"1\" class=\"dataframe\">\n  <thead>\n    <tr style=\"text-align: right;\">\n      <th></th>\n      <th>start_date</th>\n      <th>end_date</th>\n      <th>region_id</th>\n      <th>prod</th>\n    </tr>\n  </thead>\n  <tbody>\n    <tr>\n      <th>0</th>\n      <td>2021-01-01T00:00:00.000Z</td>\n      <td>2021-01-31T00:00:00.000Z</td>\n      <td>93</td>\n      <td>247662</td>\n    </tr>\n    <tr>\n      <th>1</th>\n      <td>2021-02-01T00:00:00.000Z</td>\n      <td>2021-02-28T00:00:00.000Z</td>\n      <td>93</td>\n      <td>235785</td>\n    </tr>\n    <tr>\n      <th>2</th>\n      <td>2021-03-01T00:00:00.000Z</td>\n      <td>2021-03-31T00:00:00.000Z</td>\n      <td>93</td>\n      <td>263294</td>\n    </tr>\n    <tr>\n      <th>3</th>\n      <td>2021-04-01T00:00:00.000Z</td>\n      <td>2021-04-30T00:00:00.000Z</td>\n      <td>93</td>\n      <td>262955</td>\n    </tr>\n    <tr>\n      <th>4</th>\n      <td>2021-05-01T00:00:00.000Z</td>\n      <td>2021-05-31T00:00:00.000Z</td>\n      <td>93</td>\n      <td>254414</td>\n    </tr>\n    <tr>\n      <th>...</th>\n      <td>...</td>\n      <td>...</td>\n      <td>...</td>\n      <td>...</td>\n    </tr>\n    <tr>\n      <th>115</th>\n      <td>2021-08-01T00:00:00.000Z</td>\n      <td>2021-08-31T00:00:00.000Z</td>\n      <td>105</td>\n      <td>44999</td>\n    </tr>\n    <tr>\n      <th>116</th>\n      <td>2021-09-01T00:00:00.000Z</td>\n      <td>2021-09-30T00:00:00.000Z</td>\n      <td>105</td>\n      <td>45090</td>\n    </tr>\n    <tr>\n      <th>117</th>\n      <td>2021-10-01T00:00:00.000Z</td>\n      <td>2021-10-31T00:00:00.000Z</td>\n      <td>105</td>\n      <td>45168</td>\n    </tr>\n    <tr>\n      <th>118</th>\n      <td>2021-11-01T00:00:00.000Z</td>\n      <td>2021-11-30T00:00:00.000Z</td>\n      <td>105</td>\n      <td>54350</td>\n    </tr>\n    <tr>\n      <th>119</th>\n      <td>2021-12-01T00:00:00.000Z</td>\n      <td>2021-12-31T00:00:00.000Z</td>\n      <td>105</td>\n      <td>52876</td>\n    </tr>\n  </tbody>\n</table>\n<p>120 rows × 4 columns</p>\n</div>",
      "text/plain": "                   start_date                  end_date  region_id    prod\n0    2021-01-01T00:00:00.000Z  2021-01-31T00:00:00.000Z         93  247662\n1    2021-02-01T00:00:00.000Z  2021-02-28T00:00:00.000Z         93  235785\n2    2021-03-01T00:00:00.000Z  2021-03-31T00:00:00.000Z         93  263294\n3    2021-04-01T00:00:00.000Z  2021-04-30T00:00:00.000Z         93  262955\n4    2021-05-01T00:00:00.000Z  2021-05-31T00:00:00.000Z         93  254414\n..                        ...                       ...        ...     ...\n115  2021-08-01T00:00:00.000Z  2021-08-31T00:00:00.000Z        105   44999\n116  2021-09-01T00:00:00.000Z  2021-09-30T00:00:00.000Z        105   45090\n117  2021-10-01T00:00:00.000Z  2021-10-31T00:00:00.000Z        105   45168\n118  2021-11-01T00:00:00.000Z  2021-11-30T00:00:00.000Z        105   54350\n119  2021-12-01T00:00:00.000Z  2021-12-31T00:00:00.000Z        105   52876\n\n[120 rows x 4 columns]"
     },
     "execution_count": 249,
     "metadata": {},
     "output_type": "execute_result"
    }
   ],
   "source": [
    "output"
   ]
  },
  {
   "cell_type": "code",
   "execution_count": null,
   "metadata": {},
   "outputs": [],
   "source": []
  }
 ]
}