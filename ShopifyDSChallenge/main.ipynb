{
 "nbformat": 4,
 "nbformat_minor": 2,
 "metadata": {
  "language_info": {
   "name": "python",
   "codemirror_mode": {
    "name": "ipython",
    "version": 3
   },
   "version": "3.10.0-final"
  },
  "orig_nbformat": 2,
  "file_extension": ".py",
  "mimetype": "text/x-python",
  "name": "python",
  "npconvert_exporter": "python",
  "pygments_lexer": "ipython3",
  "version": 3,
  "kernelspec": {
   "name": "python310064bitfb335e516cf1419fa40eefd43c9b328c",
   "display_name": "Python 3.10.0 64-bit"
  }
 },
 "cells": [
  {
   "cell_type": "code",
   "execution_count": 1,
   "metadata": {},
   "outputs": [],
   "source": [
    "import pandas as pd"
   ]
  },
  {
   "cell_type": "code",
   "execution_count": 75,
   "metadata": {},
   "outputs": [
    {
     "data": {
      "text/html": "<div>\n<style scoped>\n    .dataframe tbody tr th:only-of-type {\n        vertical-align: middle;\n    }\n\n    .dataframe tbody tr th {\n        vertical-align: top;\n    }\n\n    .dataframe thead th {\n        text-align: right;\n    }\n</style>\n<table border=\"1\" class=\"dataframe\">\n  <thead>\n    <tr style=\"text-align: right;\">\n      <th></th>\n      <th>order_id</th>\n      <th>shop_id</th>\n      <th>user_id</th>\n      <th>order_amount</th>\n      <th>total_items</th>\n      <th>payment_method</th>\n      <th>created_at</th>\n    </tr>\n  </thead>\n  <tbody>\n    <tr>\n      <th>0</th>\n      <td>1</td>\n      <td>53</td>\n      <td>746</td>\n      <td>224</td>\n      <td>2</td>\n      <td>cash</td>\n      <td>2017-03-13 12:36:56</td>\n    </tr>\n    <tr>\n      <th>1</th>\n      <td>2</td>\n      <td>92</td>\n      <td>925</td>\n      <td>90</td>\n      <td>1</td>\n      <td>cash</td>\n      <td>2017-03-03 17:38:52</td>\n    </tr>\n    <tr>\n      <th>2</th>\n      <td>3</td>\n      <td>44</td>\n      <td>861</td>\n      <td>144</td>\n      <td>1</td>\n      <td>cash</td>\n      <td>2017-03-14 4:23:56</td>\n    </tr>\n    <tr>\n      <th>3</th>\n      <td>4</td>\n      <td>18</td>\n      <td>935</td>\n      <td>156</td>\n      <td>1</td>\n      <td>credit_card</td>\n      <td>2017-03-26 12:43:37</td>\n    </tr>\n    <tr>\n      <th>4</th>\n      <td>5</td>\n      <td>18</td>\n      <td>883</td>\n      <td>156</td>\n      <td>1</td>\n      <td>credit_card</td>\n      <td>2017-03-01 4:35:11</td>\n    </tr>\n  </tbody>\n</table>\n</div>",
      "text/plain": "   order_id  shop_id  user_id  order_amount  total_items payment_method  \\\n0         1       53      746           224            2           cash   \n1         2       92      925            90            1           cash   \n2         3       44      861           144            1           cash   \n3         4       18      935           156            1    credit_card   \n4         5       18      883           156            1    credit_card   \n\n            created_at  \n0  2017-03-13 12:36:56  \n1  2017-03-03 17:38:52  \n2   2017-03-14 4:23:56  \n3  2017-03-26 12:43:37  \n4   2017-03-01 4:35:11  "
     },
     "execution_count": 75,
     "metadata": {},
     "output_type": "execute_result"
    }
   ],
   "source": [
    "data_df = pd.read_csv(\"data.csv\")\n",
    "data_df.head()"
   ]
  },
  {
   "cell_type": "code",
   "execution_count": 45,
   "metadata": {},
   "outputs": [
    {
     "data": {
      "text/plain": "3145.128"
     },
     "execution_count": 45,
     "metadata": {},
     "output_type": "execute_result"
    }
   ],
   "source": [
    "data_df['order_amount'].mean()"
   ]
  },
  {
   "cell_type": "code",
   "execution_count": 46,
   "metadata": {},
   "outputs": [],
   "source": [
    "data_df['per_unit_price'] = data_df['order_amount']/data_df['total_items']"
   ]
  },
  {
   "cell_type": "code",
   "execution_count": 47,
   "metadata": {},
   "outputs": [
    {
     "data": {
      "text/html": "<div>\n<style scoped>\n    .dataframe tbody tr th:only-of-type {\n        vertical-align: middle;\n    }\n\n    .dataframe tbody tr th {\n        vertical-align: top;\n    }\n\n    .dataframe thead th {\n        text-align: right;\n    }\n</style>\n<table border=\"1\" class=\"dataframe\">\n  <thead>\n    <tr style=\"text-align: right;\">\n      <th></th>\n      <th>order_id</th>\n      <th>shop_id</th>\n      <th>user_id</th>\n      <th>order_amount</th>\n      <th>total_items</th>\n      <th>payment_method</th>\n      <th>created_at</th>\n      <th>per_unit_price</th>\n    </tr>\n  </thead>\n  <tbody>\n    <tr>\n      <th>0</th>\n      <td>1</td>\n      <td>53</td>\n      <td>746</td>\n      <td>224</td>\n      <td>2</td>\n      <td>cash</td>\n      <td>2017-03-13 12:36:56</td>\n      <td>112.0</td>\n    </tr>\n    <tr>\n      <th>1</th>\n      <td>2</td>\n      <td>92</td>\n      <td>925</td>\n      <td>90</td>\n      <td>1</td>\n      <td>cash</td>\n      <td>2017-03-03 17:38:52</td>\n      <td>90.0</td>\n    </tr>\n    <tr>\n      <th>2</th>\n      <td>3</td>\n      <td>44</td>\n      <td>861</td>\n      <td>144</td>\n      <td>1</td>\n      <td>cash</td>\n      <td>2017-03-14 4:23:56</td>\n      <td>144.0</td>\n    </tr>\n    <tr>\n      <th>3</th>\n      <td>4</td>\n      <td>18</td>\n      <td>935</td>\n      <td>156</td>\n      <td>1</td>\n      <td>credit_card</td>\n      <td>2017-03-26 12:43:37</td>\n      <td>156.0</td>\n    </tr>\n    <tr>\n      <th>4</th>\n      <td>5</td>\n      <td>18</td>\n      <td>883</td>\n      <td>156</td>\n      <td>1</td>\n      <td>credit_card</td>\n      <td>2017-03-01 4:35:11</td>\n      <td>156.0</td>\n    </tr>\n  </tbody>\n</table>\n</div>",
      "text/plain": "   order_id  shop_id  user_id  order_amount  total_items payment_method  \\\n0         1       53      746           224            2           cash   \n1         2       92      925            90            1           cash   \n2         3       44      861           144            1           cash   \n3         4       18      935           156            1    credit_card   \n4         5       18      883           156            1    credit_card   \n\n            created_at  per_unit_price  \n0  2017-03-13 12:36:56           112.0  \n1  2017-03-03 17:38:52            90.0  \n2   2017-03-14 4:23:56           144.0  \n3  2017-03-26 12:43:37           156.0  \n4   2017-03-01 4:35:11           156.0  "
     },
     "execution_count": 47,
     "metadata": {},
     "output_type": "execute_result"
    }
   ],
   "source": [
    "data_df.head()"
   ]
  },
  {
   "cell_type": "code",
   "execution_count": 49,
   "metadata": {},
   "outputs": [
    {
     "data": {
      "text/plain": "387.7428"
     },
     "execution_count": 49,
     "metadata": {},
     "output_type": "execute_result"
    }
   ],
   "source": [
    "data_df['per_unit_price'].mean()"
   ]
  },
  {
   "cell_type": "code",
   "execution_count": 74,
   "metadata": {},
   "outputs": [
    {
     "data": {
      "text/plain": "<AxesSubplot:>"
     },
     "execution_count": 74,
     "metadata": {},
     "output_type": "execute_result"
    },
    {
     "data": {
      "image/png": "[encoded data removed]",
      "image/svg+xml": "<?xml version=\"1.0\" encoding=\"utf-8\" standalone=\"no\"?>\n<!DOCTYPE svg PUBLIC \"-//W3C//DTD SVG 1.1//EN\"\n  \"http://www.w3.org/Graphics/SVG/1.1/DTD/svg11.dtd\">\n<svg xmlns:xlink=\"http://www.w3.org/1999/xlink\" width=\"388.0125pt\" height=\"248.79625pt\" viewBox=\"0 0 388.0125 248.79625\" xmlns=\"http://www.w3.org/2000/svg\" version=\"1.1\">\n <metadata>\n  <rdf:RDF xmlns:dc=\"http://purl.org/dc/elements/1.1/\" xmlns:cc=\"http://creativecommons.org/ns#\" xmlns:rdf=\"http://www.w3.org/1999/02/22-rdf-syntax-ns#\">\n   <cc:Work>\n    <dc:type rdf:resource=\"http://purl.org/dc/dcmitype/StillImage\"/>\n    <dc:date>2022-05-18T22:31:48.874481</dc:date>\n    <dc:format>image/svg+xml</dc:format>\n    <dc:creator>\n     <cc:Agent>\n      <dc:title>Matplotlib v3.5.0, https://matplotlib.org/</dc:title>\n     </cc:Agent>\n    </dc:creator>\n   </cc:Work>\n  </rdf:RDF>\n </metadata>\n <defs>\n  <style type=\"text/css\">*{stroke-linejoin: round; stroke-linecap: butt}</style>\n </defs>\n <g id=\"figure_1\">\n  <g id=\"patch_1\">\n   <path d=\"M 0 248.79625 \nL 388.0125 248.79625 \nL 388.0125 0 \nL 0 0 \nL 0 248.79625 \nz\n\" style=\"fill: none\"/>\n  </g>\n  <g id=\"axes_1\">\n   <g id=\"patch_2\">\n    <path d=\"M 46.0125 224.64 \nL 380.8125 224.64 \nL 380.8125 7.2 \nL 46.0125 7.2 \nz\n\" style=\"fill: #ffffff\"/>\n   </g>\n   <g id=\"matplotlib.axis_1\">\n    <g id=\"xtick_1\">\n     <g id=\"line2d_1\">\n      <path d=\"M 213.4125 224.64 \nL 213.4125 7.2 \n\" clip-path=\"url(#pee62acc38d)\" style=\"fill: none; stroke: #b0b0b0; stroke-width: 0.8; stroke-linecap: square\"/>\n     </g>\n     <g id=\"line2d_2\">\n      <defs>\n       <path id=\"mbc3b266c40\" d=\"M 0 0 \nL 0 3.5 \n\" style=\"stroke: #000000; stroke-width: 0.8\"/>\n      </defs>\n      <g>\n       <use xlink:href=\"#mbc3b266c40\" x=\"213.4125\" y=\"224.64\" style=\"stroke: #000000; stroke-width: 0.8\"/>\n      </g>\n     </g>\n     <g id=\"text_1\">\n      <!-- per_unit_price -->\n      <g transform=\"translate(177.975 239.238437)scale(0.1 -0.1)\">\n       <defs>\n        <path id=\"DejaVuSans-70\" d=\"M 1159 525 \nL 1159 -1331 \nL 581 -1331 \nL 581 3500 \nL 1159 3500 \nL 1159 2969 \nQ 1341 3281 1617 3432 \nQ 1894 3584 2278 3584 \nQ 2916 3584 3314 3078 \nQ 3713 2572 3713 1747 \nQ 3713 922 3314 415 \nQ 2916 -91 2278 -91 \nQ 1894 -91 1617 61 \nQ 1341 213 1159 525 \nz\nM 3116 1747 \nQ 3116 2381 2855 2742 \nQ 2594 3103 2138 3103 \nQ 1681 3103 1420 2742 \nQ 1159 2381 1159 1747 \nQ 1159 1113 1420 752 \nQ 1681 391 2138 391 \nQ 2594 391 2855 752 \nQ 3116 1113 3116 1747 \nz\n\" transform=\"scale(0.015625)\"/>\n        <path id=\"DejaVuSans-65\" d=\"M 3597 1894 \nL 3597 1613 \nL 953 1613 \nQ 991 1019 1311 708 \nQ 1631 397 2203 397 \nQ 2534 397 2845 478 \nQ 3156 559 3463 722 \nL 3463 178 \nQ 3153 47 2828 -22 \nQ 2503 -91 2169 -91 \nQ 1331 -91 842 396 \nQ 353 884 353 1716 \nQ 353 2575 817 3079 \nQ 1281 3584 2069 3584 \nQ 2775 3584 3186 3129 \nQ 3597 2675 3597 1894 \nz\nM 3022 2063 \nQ 3016 2534 2758 2815 \nQ 2500 3097 2075 3097 \nQ 1594 3097 1305 2825 \nQ 1016 2553 972 2059 \nL 3022 2063 \nz\n\" transform=\"scale(0.015625)\"/>\n        <path id=\"DejaVuSans-72\" d=\"M 2631 2963 \nQ 2534 3019 2420 3045 \nQ 2306 3072 2169 3072 \nQ 1681 3072 1420 2755 \nQ 1159 2438 1159 1844 \nL 1159 0 \nL 581 0 \nL 581 3500 \nL 1159 3500 \nL 1159 2956 \nQ 1341 3275 1631 3429 \nQ 1922 3584 2338 3584 \nQ 2397 3584 2469 3576 \nQ 2541 3569 2628 3553 \nL 2631 2963 \nz\n\" transform=\"scale(0.015625)\"/>\n        <path id=\"DejaVuSans-5f\" d=\"M 3263 -1063 \nL 3263 -1509 \nL -63 -1509 \nL -63 -1063 \nL 3263 -1063 \nz\n\" transform=\"scale(0.015625)\"/>\n        <path id=\"DejaVuSans-75\" d=\"M 544 1381 \nL 544 3500 \nL 1119 3500 \nL 1119 1403 \nQ 1119 906 1312 657 \nQ 1506 409 1894 409 \nQ 2359 409 2629 706 \nQ 2900 1003 2900 1516 \nL 2900 3500 \nL 3475 3500 \nL 3475 0 \nL 2900 0 \nL 2900 538 \nQ 2691 219 2414 64 \nQ 2138 -91 1772 -91 \nQ 1169 -91 856 284 \nQ 544 659 544 1381 \nz\nM 1991 3584 \nL 1991 3584 \nz\n\" transform=\"scale(0.015625)\"/>\n        <path id=\"DejaVuSans-6e\" d=\"M 3513 2113 \nL 3513 0 \nL 2938 0 \nL 2938 2094 \nQ 2938 2591 2744 2837 \nQ 2550 3084 2163 3084 \nQ 1697 3084 1428 2787 \nQ 1159 2491 1159 1978 \nL 1159 0 \nL 581 0 \nL 581 3500 \nL 1159 3500 \nL 1159 2956 \nQ 1366 3272 1645 3428 \nQ 1925 3584 2291 3584 \nQ 2894 3584 3203 3211 \nQ 3513 2838 3513 2113 \nz\n\" transform=\"scale(0.015625)\"/>\n        <path id=\"DejaVuSans-69\" d=\"M 603 3500 \nL 1178 3500 \nL 1178 0 \nL 603 0 \nL 603 3500 \nz\nM 603 4863 \nL 1178 4863 \nL 1178 4134 \nL 603 4134 \nL 603 4863 \nz\n\" transform=\"scale(0.015625)\"/>\n        <path id=\"DejaVuSans-74\" d=\"M 1172 4494 \nL 1172 3500 \nL 2356 3500 \nL 2356 3053 \nL 1172 3053 \nL 1172 1153 \nQ 1172 725 1289 603 \nQ 1406 481 1766 481 \nL 2356 481 \nL 2356 0 \nL 1766 0 \nQ 1100 0 847 248 \nQ 594 497 594 1153 \nL 594 3053 \nL 172 3053 \nL 172 3500 \nL 594 3500 \nL 594 4494 \nL 1172 4494 \nz\n\" transform=\"scale(0.015625)\"/>\n        <path id=\"DejaVuSans-63\" d=\"M 3122 3366 \nL 3122 2828 \nQ 2878 2963 2633 3030 \nQ 2388 3097 2138 3097 \nQ 1578 3097 1268 2742 \nQ 959 2388 959 1747 \nQ 959 1106 1268 751 \nQ 1578 397 2138 397 \nQ 2388 397 2633 464 \nQ 2878 531 3122 666 \nL 3122 134 \nQ 2881 22 2623 -34 \nQ 2366 -91 2075 -91 \nQ 1284 -91 818 406 \nQ 353 903 353 1747 \nQ 353 2603 823 3093 \nQ 1294 3584 2113 3584 \nQ 2378 3584 2631 3529 \nQ 2884 3475 3122 3366 \nz\n\" transform=\"scale(0.015625)\"/>\n       </defs>\n       <use xlink:href=\"#DejaVuSans-70\"/>\n       <use xlink:href=\"#DejaVuSans-65\" x=\"63.476562\"/>\n       <use xlink:href=\"#DejaVuSans-72\" x=\"125\"/>\n       <use xlink:href=\"#DejaVuSans-5f\" x=\"166.113281\"/>\n       <use xlink:href=\"#DejaVuSans-75\" x=\"216.113281\"/>\n       <use xlink:href=\"#DejaVuSans-6e\" x=\"279.492188\"/>\n       <use xlink:href=\"#DejaVuSans-69\" x=\"342.871094\"/>\n       <use xlink:href=\"#DejaVuSans-74\" x=\"370.654297\"/>\n       <use xlink:href=\"#DejaVuSans-5f\" x=\"409.863281\"/>\n       <use xlink:href=\"#DejaVuSans-70\" x=\"459.863281\"/>\n       <use xlink:href=\"#DejaVuSans-72\" x=\"523.339844\"/>\n       <use xlink:href=\"#DejaVuSans-69\" x=\"564.453125\"/>\n       <use xlink:href=\"#DejaVuSans-63\" x=\"592.236328\"/>\n       <use xlink:href=\"#DejaVuSans-65\" x=\"647.216797\"/>\n      </g>\n     </g>\n    </g>\n   </g>\n   <g id=\"matplotlib.axis_2\">\n    <g id=\"ytick_1\">\n     <g id=\"line2d_3\">\n      <path d=\"M 46.0125 215.450358 \nL 380.8125 215.450358 \n\" clip-path=\"url(#pee62acc38d)\" style=\"fill: none; stroke: #b0b0b0; stroke-width: 0.8; stroke-linecap: square\"/>\n     </g>\n     <g id=\"line2d_4\">\n      <defs>\n       <path id=\"m1d54360ef2\" d=\"M 0 0 \nL -3.5 0 \n\" style=\"stroke: #000000; stroke-width: 0.8\"/>\n      </defs>\n      <g>\n       <use xlink:href=\"#m1d54360ef2\" x=\"46.0125\" y=\"215.450358\" style=\"stroke: #000000; stroke-width: 0.8\"/>\n      </g>\n     </g>\n     <g id=\"text_2\">\n      <!-- 0 -->\n      <g transform=\"translate(32.65 219.249577)scale(0.1 -0.1)\">\n       <defs>\n        <path id=\"DejaVuSans-30\" d=\"M 2034 4250 \nQ 1547 4250 1301 3770 \nQ 1056 3291 1056 2328 \nQ 1056 1369 1301 889 \nQ 1547 409 2034 409 \nQ 2525 409 2770 889 \nQ 3016 1369 3016 2328 \nQ 3016 3291 2770 3770 \nQ 2525 4250 2034 4250 \nz\nM 2034 4750 \nQ 2819 4750 3233 4129 \nQ 3647 3509 3647 2328 \nQ 3647 1150 3233 529 \nQ 2819 -91 2034 -91 \nQ 1250 -91 836 529 \nQ 422 1150 422 2328 \nQ 422 3509 836 4129 \nQ 1250 4750 2034 4750 \nz\n\" transform=\"scale(0.015625)\"/>\n       </defs>\n       <use xlink:href=\"#DejaVuSans-30\"/>\n      </g>\n     </g>\n    </g>\n    <g id=\"ytick_2\">\n     <g id=\"line2d_5\">\n      <path d=\"M 46.0125 176.895116 \nL 380.8125 176.895116 \n\" clip-path=\"url(#pee62acc38d)\" style=\"fill: none; stroke: #b0b0b0; stroke-width: 0.8; stroke-linecap: square\"/>\n     </g>\n     <g id=\"line2d_6\">\n      <g>\n       <use xlink:href=\"#m1d54360ef2\" x=\"46.0125\" y=\"176.895116\" style=\"stroke: #000000; stroke-width: 0.8\"/>\n      </g>\n     </g>\n     <g id=\"text_3\">\n      <!-- 5000 -->\n      <g transform=\"translate(13.5625 180.694334)scale(0.1 -0.1)\">\n       <defs>\n        <path id=\"DejaVuSans-35\" d=\"M 691 4666 \nL 3169 4666 \nL 3169 4134 \nL 1269 4134 \nL 1269 2991 \nQ 1406 3038 1543 3061 \nQ 1681 3084 1819 3084 \nQ 2600 3084 3056 2656 \nQ 3513 2228 3513 1497 \nQ 3513 744 3044 326 \nQ 2575 -91 1722 -91 \nQ 1428 -91 1123 -41 \nQ 819 9 494 109 \nL 494 744 \nQ 775 591 1075 516 \nQ 1375 441 1709 441 \nQ 2250 441 2565 725 \nQ 2881 1009 2881 1497 \nQ 2881 1984 2565 2268 \nQ 2250 2553 1709 2553 \nQ 1456 2553 1204 2497 \nQ 953 2441 691 2322 \nL 691 4666 \nz\n\" transform=\"scale(0.015625)\"/>\n       </defs>\n       <use xlink:href=\"#DejaVuSans-35\"/>\n       <use xlink:href=\"#DejaVuSans-30\" x=\"63.623047\"/>\n       <use xlink:href=\"#DejaVuSans-30\" x=\"127.246094\"/>\n       <use xlink:href=\"#DejaVuSans-30\" x=\"190.869141\"/>\n      </g>\n     </g>\n    </g>\n    <g id=\"ytick_3\">\n     <g id=\"line2d_7\">\n      <path d=\"M 46.0125 138.339873 \nL 380.8125 138.339873 \n\" clip-path=\"url(#pee62acc38d)\" style=\"fill: none; stroke: #b0b0b0; stroke-width: 0.8; stroke-linecap: square\"/>\n     </g>\n     <g id=\"line2d_8\">\n      <g>\n       <use xlink:href=\"#m1d54360ef2\" x=\"46.0125\" y=\"138.339873\" style=\"stroke: #000000; stroke-width: 0.8\"/>\n      </g>\n     </g>\n     <g id=\"text_4\">\n      <!-- 10000 -->\n      <g transform=\"translate(7.2 142.139092)scale(0.1 -0.1)\">\n       <defs>\n        <path id=\"DejaVuSans-31\" d=\"M 794 531 \nL 1825 531 \nL 1825 4091 \nL 703 3866 \nL 703 4441 \nL 1819 4666 \nL 2450 4666 \nL 2450 531 \nL 3481 531 \nL 3481 0 \nL 794 0 \nL 794 531 \nz\n\" transform=\"scale(0.015625)\"/>\n       </defs>\n       <use xlink:href=\"#DejaVuSans-31\"/>\n       <use xlink:href=\"#DejaVuSans-30\" x=\"63.623047\"/>\n       <use xlink:href=\"#DejaVuSans-30\" x=\"127.246094\"/>\n       <use xlink:href=\"#DejaVuSans-30\" x=\"190.869141\"/>\n       <use xlink:href=\"#DejaVuSans-30\" x=\"254.492188\"/>\n      </g>\n     </g>\n    </g>\n    <g id=\"ytick_4\">\n     <g id=\"line2d_9\">\n      <path d=\"M 46.0125 99.784631 \nL 380.8125 99.784631 \n\" clip-path=\"url(#pee62acc38d)\" style=\"fill: none; stroke: #b0b0b0; stroke-width: 0.8; stroke-linecap: square\"/>\n     </g>\n     <g id=\"line2d_10\">\n      <g>\n       <use xlink:href=\"#m1d54360ef2\" x=\"46.0125\" y=\"99.784631\" style=\"stroke: #000000; stroke-width: 0.8\"/>\n      </g>\n     </g>\n     <g id=\"text_5\">\n      <!-- 15000 -->\n      <g transform=\"translate(7.2 103.58385)scale(0.1 -0.1)\">\n       <use xlink:href=\"#DejaVuSans-31\"/>\n       <use xlink:href=\"#DejaVuSans-35\" x=\"63.623047\"/>\n       <use xlink:href=\"#DejaVuSans-30\" x=\"127.246094\"/>\n       <use xlink:href=\"#DejaVuSans-30\" x=\"190.869141\"/>\n       <use xlink:href=\"#DejaVuSans-30\" x=\"254.492188\"/>\n      </g>\n     </g>\n    </g>\n    <g id=\"ytick_5\">\n     <g id=\"line2d_11\">\n      <path d=\"M 46.0125 61.229389 \nL 380.8125 61.229389 \n\" clip-path=\"url(#pee62acc38d)\" style=\"fill: none; stroke: #b0b0b0; stroke-width: 0.8; stroke-linecap: square\"/>\n     </g>\n     <g id=\"line2d_12\">\n      <g>\n       <use xlink:href=\"#m1d54360ef2\" x=\"46.0125\" y=\"61.229389\" style=\"stroke: #000000; stroke-width: 0.8\"/>\n      </g>\n     </g>\n     <g id=\"text_6\">\n      <!-- 20000 -->\n      <g transform=\"translate(7.2 65.028608)scale(0.1 -0.1)\">\n       <defs>\n        <path id=\"DejaVuSans-32\" d=\"M 1228 531 \nL 3431 531 \nL 3431 0 \nL 469 0 \nL 469 531 \nQ 828 903 1448 1529 \nQ 2069 2156 2228 2338 \nQ 2531 2678 2651 2914 \nQ 2772 3150 2772 3378 \nQ 2772 3750 2511 3984 \nQ 2250 4219 1831 4219 \nQ 1534 4219 1204 4116 \nQ 875 4013 500 3803 \nL 500 4441 \nQ 881 4594 1212 4672 \nQ 1544 4750 1819 4750 \nQ 2544 4750 2975 4387 \nQ 3406 4025 3406 3419 \nQ 3406 3131 3298 2873 \nQ 3191 2616 2906 2266 \nQ 2828 2175 2409 1742 \nQ 1991 1309 1228 531 \nz\n\" transform=\"scale(0.015625)\"/>\n       </defs>\n       <use xlink:href=\"#DejaVuSans-32\"/>\n       <use xlink:href=\"#DejaVuSans-30\" x=\"63.623047\"/>\n       <use xlink:href=\"#DejaVuSans-30\" x=\"127.246094\"/>\n       <use xlink:href=\"#DejaVuSans-30\" x=\"190.869141\"/>\n       <use xlink:href=\"#DejaVuSans-30\" x=\"254.492188\"/>\n      </g>\n     </g>\n    </g>\n    <g id=\"ytick_6\">\n     <g id=\"line2d_13\">\n      <path d=\"M 46.0125 22.674146 \nL 380.8125 22.674146 \n\" clip-path=\"url(#pee62acc38d)\" style=\"fill: none; stroke: #b0b0b0; stroke-width: 0.8; stroke-linecap: square\"/>\n     </g>\n     <g id=\"line2d_14\">\n      <g>\n       <use xlink:href=\"#m1d54360ef2\" x=\"46.0125\" y=\"22.674146\" style=\"stroke: #000000; stroke-width: 0.8\"/>\n      </g>\n     </g>\n     <g id=\"text_7\">\n      <!-- 25000 -->\n      <g transform=\"translate(7.2 26.473365)scale(0.1 -0.1)\">\n       <use xlink:href=\"#DejaVuSans-32\"/>\n       <use xlink:href=\"#DejaVuSans-35\" x=\"63.623047\"/>\n       <use xlink:href=\"#DejaVuSans-30\" x=\"127.246094\"/>\n       <use xlink:href=\"#DejaVuSans-30\" x=\"190.869141\"/>\n       <use xlink:href=\"#DejaVuSans-30\" x=\"254.492188\"/>\n      </g>\n     </g>\n    </g>\n   </g>\n   <g id=\"line2d_15\">\n    <path d=\"M 188.3025 214.424789 \nL 238.5225 214.424789 \nL 238.5225 214.147191 \nL 188.3025 214.147191 \nL 188.3025 214.424789 \n\" clip-path=\"url(#pee62acc38d)\" style=\"fill: none; stroke: #1f77b4; stroke-linecap: square\"/>\n   </g>\n   <g id=\"line2d_16\">\n    <path d=\"M 213.4125 214.424789 \nL 213.4125 214.756364 \n\" clip-path=\"url(#pee62acc38d)\" style=\"fill: none; stroke: #1f77b4; stroke-linecap: square\"/>\n   </g>\n   <g id=\"line2d_17\">\n    <path d=\"M 213.4125 214.147191 \nL 213.4125 213.900437 \n\" clip-path=\"url(#pee62acc38d)\" style=\"fill: none; stroke: #1f77b4; stroke-linecap: square\"/>\n   </g>\n   <g id=\"line2d_18\">\n    <path d=\"M 200.8575 214.756364 \nL 225.9675 214.756364 \n\" clip-path=\"url(#pee62acc38d)\" style=\"fill: none; stroke: #000000; stroke-linecap: square\"/>\n   </g>\n   <g id=\"line2d_19\">\n    <path d=\"M 200.8575 213.900437 \nL 225.9675 213.900437 \n\" clip-path=\"url(#pee62acc38d)\" style=\"fill: none; stroke: #000000; stroke-linecap: square\"/>\n   </g>\n   <g id=\"line2d_20\">\n    <defs>\n     <path id=\"m6f93215716\" d=\"M 0 3 \nC 0.795609 3 1.55874 2.683901 2.12132 2.12132 \nC 2.683901 1.55874 3 0.795609 3 0 \nC 3 -0.795609 2.683901 -1.55874 2.12132 -2.12132 \nC 1.55874 -2.683901 0.795609 -3 0 -3 \nC -0.795609 -3 -1.55874 -2.683901 -2.12132 -2.12132 \nC -2.683901 -1.55874 -3 -0.795609 -3 0 \nC -3 0.795609 -2.683901 1.55874 -2.12132 2.12132 \nC -1.55874 2.683901 -0.795609 3 0 3 \nz\n\" style=\"stroke: #000000\"/>\n    </defs>\n    <g clip-path=\"url(#pee62acc38d)\">\n     <use xlink:href=\"#m6f93215716\" x=\"213.4125\" y=\"212.736069\" style=\"fill-opacity: 0; stroke: #000000\"/>\n     <use xlink:href=\"#m6f93215716\" x=\"213.4125\" y=\"212.736069\" style=\"fill-opacity: 0; stroke: #000000\"/>\n     <use xlink:href=\"#m6f93215716\" x=\"213.4125\" y=\"212.736069\" style=\"fill-opacity: 0; stroke: #000000\"/>\n     <use xlink:href=\"#m6f93215716\" x=\"213.4125\" y=\"17.083636\" style=\"fill-opacity: 0; stroke: #000000\"/>\n     <use xlink:href=\"#m6f93215716\" x=\"213.4125\" y=\"212.736069\" style=\"fill-opacity: 0; stroke: #000000\"/>\n     <use xlink:href=\"#m6f93215716\" x=\"213.4125\" y=\"212.736069\" style=\"fill-opacity: 0; stroke: #000000\"/>\n     <use xlink:href=\"#m6f93215716\" x=\"213.4125\" y=\"17.083636\" style=\"fill-opacity: 0; stroke: #000000\"/>\n     <use xlink:href=\"#m6f93215716\" x=\"213.4125\" y=\"17.083636\" style=\"fill-opacity: 0; stroke: #000000\"/>\n     <use xlink:href=\"#m6f93215716\" x=\"213.4125\" y=\"17.083636\" style=\"fill-opacity: 0; stroke: #000000\"/>\n     <use xlink:href=\"#m6f93215716\" x=\"213.4125\" y=\"212.736069\" style=\"fill-opacity: 0; stroke: #000000\"/>\n     <use xlink:href=\"#m6f93215716\" x=\"213.4125\" y=\"17.083636\" style=\"fill-opacity: 0; stroke: #000000\"/>\n     <use xlink:href=\"#m6f93215716\" x=\"213.4125\" y=\"17.083636\" style=\"fill-opacity: 0; stroke: #000000\"/>\n     <use xlink:href=\"#m6f93215716\" x=\"213.4125\" y=\"212.736069\" style=\"fill-opacity: 0; stroke: #000000\"/>\n     <use xlink:href=\"#m6f93215716\" x=\"213.4125\" y=\"212.736069\" style=\"fill-opacity: 0; stroke: #000000\"/>\n     <use xlink:href=\"#m6f93215716\" x=\"213.4125\" y=\"212.736069\" style=\"fill-opacity: 0; stroke: #000000\"/>\n     <use xlink:href=\"#m6f93215716\" x=\"213.4125\" y=\"212.736069\" style=\"fill-opacity: 0; stroke: #000000\"/>\n     <use xlink:href=\"#m6f93215716\" x=\"213.4125\" y=\"17.083636\" style=\"fill-opacity: 0; stroke: #000000\"/>\n     <use xlink:href=\"#m6f93215716\" x=\"213.4125\" y=\"212.736069\" style=\"fill-opacity: 0; stroke: #000000\"/>\n     <use xlink:href=\"#m6f93215716\" x=\"213.4125\" y=\"17.083636\" style=\"fill-opacity: 0; stroke: #000000\"/>\n     <use xlink:href=\"#m6f93215716\" x=\"213.4125\" y=\"17.083636\" style=\"fill-opacity: 0; stroke: #000000\"/>\n     <use xlink:href=\"#m6f93215716\" x=\"213.4125\" y=\"17.083636\" style=\"fill-opacity: 0; stroke: #000000\"/>\n     <use xlink:href=\"#m6f93215716\" x=\"213.4125\" y=\"212.736069\" style=\"fill-opacity: 0; stroke: #000000\"/>\n     <use xlink:href=\"#m6f93215716\" x=\"213.4125\" y=\"212.736069\" style=\"fill-opacity: 0; stroke: #000000\"/>\n     <use xlink:href=\"#m6f93215716\" x=\"213.4125\" y=\"212.736069\" style=\"fill-opacity: 0; stroke: #000000\"/>\n     <use xlink:href=\"#m6f93215716\" x=\"213.4125\" y=\"17.083636\" style=\"fill-opacity: 0; stroke: #000000\"/>\n     <use xlink:href=\"#m6f93215716\" x=\"213.4125\" y=\"17.083636\" style=\"fill-opacity: 0; stroke: #000000\"/>\n     <use xlink:href=\"#m6f93215716\" x=\"213.4125\" y=\"212.736069\" style=\"fill-opacity: 0; stroke: #000000\"/>\n     <use xlink:href=\"#m6f93215716\" x=\"213.4125\" y=\"17.083636\" style=\"fill-opacity: 0; stroke: #000000\"/>\n     <use xlink:href=\"#m6f93215716\" x=\"213.4125\" y=\"212.736069\" style=\"fill-opacity: 0; stroke: #000000\"/>\n     <use xlink:href=\"#m6f93215716\" x=\"213.4125\" y=\"212.736069\" style=\"fill-opacity: 0; stroke: #000000\"/>\n     <use xlink:href=\"#m6f93215716\" x=\"213.4125\" y=\"212.736069\" style=\"fill-opacity: 0; stroke: #000000\"/>\n     <use xlink:href=\"#m6f93215716\" x=\"213.4125\" y=\"17.083636\" style=\"fill-opacity: 0; stroke: #000000\"/>\n     <use xlink:href=\"#m6f93215716\" x=\"213.4125\" y=\"212.736069\" style=\"fill-opacity: 0; stroke: #000000\"/>\n     <use xlink:href=\"#m6f93215716\" x=\"213.4125\" y=\"212.736069\" style=\"fill-opacity: 0; stroke: #000000\"/>\n     <use xlink:href=\"#m6f93215716\" x=\"213.4125\" y=\"212.736069\" style=\"fill-opacity: 0; stroke: #000000\"/>\n     <use xlink:href=\"#m6f93215716\" x=\"213.4125\" y=\"212.736069\" style=\"fill-opacity: 0; stroke: #000000\"/>\n     <use xlink:href=\"#m6f93215716\" x=\"213.4125\" y=\"212.736069\" style=\"fill-opacity: 0; stroke: #000000\"/>\n     <use xlink:href=\"#m6f93215716\" x=\"213.4125\" y=\"212.736069\" style=\"fill-opacity: 0; stroke: #000000\"/>\n     <use xlink:href=\"#m6f93215716\" x=\"213.4125\" y=\"212.736069\" style=\"fill-opacity: 0; stroke: #000000\"/>\n     <use xlink:href=\"#m6f93215716\" x=\"213.4125\" y=\"212.736069\" style=\"fill-opacity: 0; stroke: #000000\"/>\n     <use xlink:href=\"#m6f93215716\" x=\"213.4125\" y=\"17.083636\" style=\"fill-opacity: 0; stroke: #000000\"/>\n     <use xlink:href=\"#m6f93215716\" x=\"213.4125\" y=\"212.736069\" style=\"fill-opacity: 0; stroke: #000000\"/>\n     <use xlink:href=\"#m6f93215716\" x=\"213.4125\" y=\"212.736069\" style=\"fill-opacity: 0; stroke: #000000\"/>\n     <use xlink:href=\"#m6f93215716\" x=\"213.4125\" y=\"17.083636\" style=\"fill-opacity: 0; stroke: #000000\"/>\n     <use xlink:href=\"#m6f93215716\" x=\"213.4125\" y=\"212.736069\" style=\"fill-opacity: 0; stroke: #000000\"/>\n     <use xlink:href=\"#m6f93215716\" x=\"213.4125\" y=\"17.083636\" style=\"fill-opacity: 0; stroke: #000000\"/>\n     <use xlink:href=\"#m6f93215716\" x=\"213.4125\" y=\"17.083636\" style=\"fill-opacity: 0; stroke: #000000\"/>\n     <use xlink:href=\"#m6f93215716\" x=\"213.4125\" y=\"17.083636\" style=\"fill-opacity: 0; stroke: #000000\"/>\n     <use xlink:href=\"#m6f93215716\" x=\"213.4125\" y=\"17.083636\" style=\"fill-opacity: 0; stroke: #000000\"/>\n     <use xlink:href=\"#m6f93215716\" x=\"213.4125\" y=\"17.083636\" style=\"fill-opacity: 0; stroke: #000000\"/>\n     <use xlink:href=\"#m6f93215716\" x=\"213.4125\" y=\"212.736069\" style=\"fill-opacity: 0; stroke: #000000\"/>\n     <use xlink:href=\"#m6f93215716\" x=\"213.4125\" y=\"17.083636\" style=\"fill-opacity: 0; stroke: #000000\"/>\n     <use xlink:href=\"#m6f93215716\" x=\"213.4125\" y=\"212.736069\" style=\"fill-opacity: 0; stroke: #000000\"/>\n     <use xlink:href=\"#m6f93215716\" x=\"213.4125\" y=\"17.083636\" style=\"fill-opacity: 0; stroke: #000000\"/>\n     <use xlink:href=\"#m6f93215716\" x=\"213.4125\" y=\"17.083636\" style=\"fill-opacity: 0; stroke: #000000\"/>\n     <use xlink:href=\"#m6f93215716\" x=\"213.4125\" y=\"17.083636\" style=\"fill-opacity: 0; stroke: #000000\"/>\n     <use xlink:href=\"#m6f93215716\" x=\"213.4125\" y=\"212.736069\" style=\"fill-opacity: 0; stroke: #000000\"/>\n     <use xlink:href=\"#m6f93215716\" x=\"213.4125\" y=\"17.083636\" style=\"fill-opacity: 0; stroke: #000000\"/>\n     <use xlink:href=\"#m6f93215716\" x=\"213.4125\" y=\"17.083636\" style=\"fill-opacity: 0; stroke: #000000\"/>\n     <use xlink:href=\"#m6f93215716\" x=\"213.4125\" y=\"212.736069\" style=\"fill-opacity: 0; stroke: #000000\"/>\n     <use xlink:href=\"#m6f93215716\" x=\"213.4125\" y=\"212.736069\" style=\"fill-opacity: 0; stroke: #000000\"/>\n     <use xlink:href=\"#m6f93215716\" x=\"213.4125\" y=\"17.083636\" style=\"fill-opacity: 0; stroke: #000000\"/>\n     <use xlink:href=\"#m6f93215716\" x=\"213.4125\" y=\"17.083636\" style=\"fill-opacity: 0; stroke: #000000\"/>\n     <use xlink:href=\"#m6f93215716\" x=\"213.4125\" y=\"17.083636\" style=\"fill-opacity: 0; stroke: #000000\"/>\n     <use xlink:href=\"#m6f93215716\" x=\"213.4125\" y=\"17.083636\" style=\"fill-opacity: 0; stroke: #000000\"/>\n     <use xlink:href=\"#m6f93215716\" x=\"213.4125\" y=\"212.736069\" style=\"fill-opacity: 0; stroke: #000000\"/>\n     <use xlink:href=\"#m6f93215716\" x=\"213.4125\" y=\"17.083636\" style=\"fill-opacity: 0; stroke: #000000\"/>\n     <use xlink:href=\"#m6f93215716\" x=\"213.4125\" y=\"17.083636\" style=\"fill-opacity: 0; stroke: #000000\"/>\n     <use xlink:href=\"#m6f93215716\" x=\"213.4125\" y=\"212.736069\" style=\"fill-opacity: 0; stroke: #000000\"/>\n     <use xlink:href=\"#m6f93215716\" x=\"213.4125\" y=\"212.736069\" style=\"fill-opacity: 0; stroke: #000000\"/>\n     <use xlink:href=\"#m6f93215716\" x=\"213.4125\" y=\"212.736069\" style=\"fill-opacity: 0; stroke: #000000\"/>\n     <use xlink:href=\"#m6f93215716\" x=\"213.4125\" y=\"17.083636\" style=\"fill-opacity: 0; stroke: #000000\"/>\n     <use xlink:href=\"#m6f93215716\" x=\"213.4125\" y=\"17.083636\" style=\"fill-opacity: 0; stroke: #000000\"/>\n     <use xlink:href=\"#m6f93215716\" x=\"213.4125\" y=\"17.083636\" style=\"fill-opacity: 0; stroke: #000000\"/>\n     <use xlink:href=\"#m6f93215716\" x=\"213.4125\" y=\"212.736069\" style=\"fill-opacity: 0; stroke: #000000\"/>\n     <use xlink:href=\"#m6f93215716\" x=\"213.4125\" y=\"212.736069\" style=\"fill-opacity: 0; stroke: #000000\"/>\n     <use xlink:href=\"#m6f93215716\" x=\"213.4125\" y=\"17.083636\" style=\"fill-opacity: 0; stroke: #000000\"/>\n     <use xlink:href=\"#m6f93215716\" x=\"213.4125\" y=\"212.736069\" style=\"fill-opacity: 0; stroke: #000000\"/>\n     <use xlink:href=\"#m6f93215716\" x=\"213.4125\" y=\"17.083636\" style=\"fill-opacity: 0; stroke: #000000\"/>\n     <use xlink:href=\"#m6f93215716\" x=\"213.4125\" y=\"17.083636\" style=\"fill-opacity: 0; stroke: #000000\"/>\n     <use xlink:href=\"#m6f93215716\" x=\"213.4125\" y=\"212.736069\" style=\"fill-opacity: 0; stroke: #000000\"/>\n     <use xlink:href=\"#m6f93215716\" x=\"213.4125\" y=\"212.736069\" style=\"fill-opacity: 0; stroke: #000000\"/>\n     <use xlink:href=\"#m6f93215716\" x=\"213.4125\" y=\"17.083636\" style=\"fill-opacity: 0; stroke: #000000\"/>\n     <use xlink:href=\"#m6f93215716\" x=\"213.4125\" y=\"212.736069\" style=\"fill-opacity: 0; stroke: #000000\"/>\n     <use xlink:href=\"#m6f93215716\" x=\"213.4125\" y=\"17.083636\" style=\"fill-opacity: 0; stroke: #000000\"/>\n     <use xlink:href=\"#m6f93215716\" x=\"213.4125\" y=\"17.083636\" style=\"fill-opacity: 0; stroke: #000000\"/>\n     <use xlink:href=\"#m6f93215716\" x=\"213.4125\" y=\"212.736069\" style=\"fill-opacity: 0; stroke: #000000\"/>\n     <use xlink:href=\"#m6f93215716\" x=\"213.4125\" y=\"17.083636\" style=\"fill-opacity: 0; stroke: #000000\"/>\n     <use xlink:href=\"#m6f93215716\" x=\"213.4125\" y=\"17.083636\" style=\"fill-opacity: 0; stroke: #000000\"/>\n     <use xlink:href=\"#m6f93215716\" x=\"213.4125\" y=\"212.736069\" style=\"fill-opacity: 0; stroke: #000000\"/>\n     <use xlink:href=\"#m6f93215716\" x=\"213.4125\" y=\"212.736069\" style=\"fill-opacity: 0; stroke: #000000\"/>\n     <use xlink:href=\"#m6f93215716\" x=\"213.4125\" y=\"17.083636\" style=\"fill-opacity: 0; stroke: #000000\"/>\n     <use xlink:href=\"#m6f93215716\" x=\"213.4125\" y=\"212.736069\" style=\"fill-opacity: 0; stroke: #000000\"/>\n     <use xlink:href=\"#m6f93215716\" x=\"213.4125\" y=\"212.736069\" style=\"fill-opacity: 0; stroke: #000000\"/>\n     <use xlink:href=\"#m6f93215716\" x=\"213.4125\" y=\"212.736069\" style=\"fill-opacity: 0; stroke: #000000\"/>\n     <use xlink:href=\"#m6f93215716\" x=\"213.4125\" y=\"212.736069\" style=\"fill-opacity: 0; stroke: #000000\"/>\n     <use xlink:href=\"#m6f93215716\" x=\"213.4125\" y=\"17.083636\" style=\"fill-opacity: 0; stroke: #000000\"/>\n    </g>\n   </g>\n   <g id=\"line2d_21\">\n    <path d=\"M 188.3025 214.270568 \nL 238.5225 214.270568 \n\" clip-path=\"url(#pee62acc38d)\" style=\"fill: none; stroke: #2ca02c; stroke-linecap: square\"/>\n   </g>\n   <g id=\"patch_3\">\n    <path d=\"M 46.0125 224.64 \nL 46.0125 7.2 \n\" style=\"fill: none; stroke: #000000; stroke-width: 0.8; stroke-linejoin: miter; stroke-linecap: square\"/>\n   </g>\n   <g id=\"patch_4\">\n    <path d=\"M 380.8125 224.64 \nL 380.8125 7.2 \n\" style=\"fill: none; stroke: #000000; stroke-width: 0.8; stroke-linejoin: miter; stroke-linecap: square\"/>\n   </g>\n   <g id=\"patch_5\">\n    <path d=\"M 46.0125 224.64 \nL 380.8125 224.64 \n\" style=\"fill: none; stroke: #000000; stroke-width: 0.8; stroke-linejoin: miter; stroke-linecap: square\"/>\n   </g>\n   <g id=\"patch_6\">\n    <path d=\"M 46.0125 7.2 \nL 380.8125 7.2 \n\" style=\"fill: none; stroke: #000000; stroke-width: 0.8; stroke-linejoin: miter; stroke-linecap: square\"/>\n   </g>\n  </g>\n </g>\n <defs>\n  <clipPath id=\"pee62acc38d\">\n   <rect x=\"46.0125\" y=\"7.2\" width=\"334.8\" height=\"217.44\"/>\n  </clipPath>\n </defs>\n</svg>\n",
      "text/plain": "<Figure size 432x288 with 1 Axes>"
     },
     "metadata": {
      "needs_background": "light"
     },
     "output_type": "display_data"
    }
   ],
   "source": [
    "df.boxplot(column=['per_unit_price'])"
   ]
  },
  {
   "cell_type": "code",
   "execution_count": 55,
   "metadata": {},
   "outputs": [
    {
     "data": {
      "text/plain": "25725.0"
     },
     "execution_count": 55,
     "metadata": {},
     "output_type": "execute_result"
    }
   ],
   "source": [
    "maximum_unit_price = data_df['per_unit_price'].max()\n",
    "maximum_unit_price"
   ]
  },
  {
   "cell_type": "code",
   "execution_count": 59,
   "metadata": {},
   "outputs": [
    {
     "data": {
      "text/plain": "90.0"
     },
     "execution_count": 59,
     "metadata": {},
     "output_type": "execute_result"
    }
   ],
   "source": [
    "minimum_unit_price = data_df['per_unit_price'].min()\n",
    "minimum_unit_price"
   ]
  },
  {
   "cell_type": "code",
   "execution_count": 60,
   "metadata": {},
   "outputs": [
    {
     "data": {
      "text/html": "<div>\n<style scoped>\n    .dataframe tbody tr th:only-of-type {\n        vertical-align: middle;\n    }\n\n    .dataframe tbody tr th {\n        vertical-align: top;\n    }\n\n    .dataframe thead th {\n        text-align: right;\n    }\n</style>\n<table border=\"1\" class=\"dataframe\">\n  <thead>\n    <tr style=\"text-align: right;\">\n      <th></th>\n      <th>shop_id</th>\n      <th>per_unit_price</th>\n    </tr>\n  </thead>\n  <tbody>\n    <tr>\n      <th>0</th>\n      <td>1</td>\n      <td>158.0</td>\n    </tr>\n    <tr>\n      <th>1</th>\n      <td>2</td>\n      <td>94.0</td>\n    </tr>\n    <tr>\n      <th>2</th>\n      <td>3</td>\n      <td>148.0</td>\n    </tr>\n    <tr>\n      <th>3</th>\n      <td>4</td>\n      <td>128.0</td>\n    </tr>\n    <tr>\n      <th>4</th>\n      <td>5</td>\n      <td>142.0</td>\n    </tr>\n  </tbody>\n</table>\n</div>",
      "text/plain": "   shop_id  per_unit_price\n0        1           158.0\n1        2            94.0\n2        3           148.0\n3        4           128.0\n4        5           142.0"
     },
     "execution_count": 60,
     "metadata": {},
     "output_type": "execute_result"
    }
   ],
   "source": [
    "mean_df = df.groupby(by=[\"shop_id\"], as_index=False).mean()\n",
    "mean_df.head()"
   ]
  },
  {
   "cell_type": "code",
   "execution_count": 63,
   "metadata": {},
   "outputs": [
    {
     "data": {
      "text/plain": "25725.0"
     },
     "execution_count": 63,
     "metadata": {},
     "output_type": "execute_result"
    }
   ],
   "source": [
    "mean_df['per_unit_price'].max()"
   ]
  },
  {
   "cell_type": "code",
   "execution_count": 72,
   "metadata": {},
   "outputs": [
    {
     "data": {
      "text/plain": "77    78\nName: shop_id, dtype: int64"
     },
     "execution_count": 72,
     "metadata": {},
     "output_type": "execute_result"
    }
   ],
   "source": [
    "expensive_shop_id = mean_df.loc[mean_df['per_unit_price'] == maximum_unit_price]['shop_id']\n",
    "expensive_shop_id"
   ]
  },
  {
   "cell_type": "code",
   "execution_count": 53,
   "metadata": {},
   "outputs": [],
   "source": [
    "df = data[['shop_id','per_unit_price']]"
   ]
  },
  {
   "cell_type": "code",
   "execution_count": 54,
   "metadata": {},
   "outputs": [
    {
     "data": {
      "text/html": "<div>\n<style scoped>\n    .dataframe tbody tr th:only-of-type {\n        vertical-align: middle;\n    }\n\n    .dataframe tbody tr th {\n        vertical-align: top;\n    }\n\n    .dataframe thead th {\n        text-align: right;\n    }\n</style>\n<table border=\"1\" class=\"dataframe\">\n  <thead>\n    <tr style=\"text-align: right;\">\n      <th></th>\n      <th>shop_id</th>\n      <th>per_unit_price</th>\n    </tr>\n  </thead>\n  <tbody>\n    <tr>\n      <th>0</th>\n      <td>53</td>\n      <td>112.0</td>\n    </tr>\n    <tr>\n      <th>1</th>\n      <td>92</td>\n      <td>90.0</td>\n    </tr>\n    <tr>\n      <th>2</th>\n      <td>44</td>\n      <td>144.0</td>\n    </tr>\n    <tr>\n      <th>3</th>\n      <td>18</td>\n      <td>156.0</td>\n    </tr>\n    <tr>\n      <th>4</th>\n      <td>18</td>\n      <td>156.0</td>\n    </tr>\n  </tbody>\n</table>\n</div>",
      "text/plain": "   shop_id  per_unit_price\n0       53           112.0\n1       92            90.0\n2       44           144.0\n3       18           156.0\n4       18           156.0"
     },
     "execution_count": 54,
     "metadata": {},
     "output_type": "execute_result"
    }
   ],
   "source": [
    "df.head()"
   ]
  },
  {
   "cell_type": "code",
   "execution_count": 35,
   "metadata": {},
   "outputs": [],
   "source": [
    "mean_df = df.groupby(by=[\"shop_id\"], as_index=False).mean()"
   ]
  },
  {
   "cell_type": "code",
   "execution_count": 42,
   "metadata": {},
   "outputs": [
    {
     "data": {
      "text/html": "<div>\n<style scoped>\n    .dataframe tbody tr th:only-of-type {\n        vertical-align: middle;\n    }\n\n    .dataframe tbody tr th {\n        vertical-align: top;\n    }\n\n    .dataframe thead th {\n        text-align: right;\n    }\n</style>\n<table border=\"1\" class=\"dataframe\">\n  <thead>\n    <tr style=\"text-align: right;\">\n      <th></th>\n      <th>shop_id</th>\n      <th>per_unit_price</th>\n    </tr>\n  </thead>\n  <tbody>\n    <tr>\n      <th>77</th>\n      <td>78</td>\n      <td>25725.0</td>\n    </tr>\n  </tbody>\n</table>\n</div>",
      "text/plain": "    shop_id  per_unit_price\n77       78         25725.0"
     },
     "execution_count": 42,
     "metadata": {},
     "output_type": "execute_result"
    }
   ],
   "source": [
    "mean_df.loc[mean_df[\"shop_id\"] == 78]"
   ]
  },
  {
   "cell_type": "code",
   "execution_count": 15,
   "metadata": {},
   "outputs": [
    {
     "data": {
      "text/html": "<div>\n<style scoped>\n    .dataframe tbody tr th:only-of-type {\n        vertical-align: middle;\n    }\n\n    .dataframe tbody tr th {\n        vertical-align: top;\n    }\n\n    .dataframe thead th {\n        text-align: right;\n    }\n</style>\n<table border=\"1\" class=\"dataframe\">\n  <thead>\n    <tr style=\"text-align: right;\">\n      <th></th>\n      <th>order_id</th>\n      <th>shop_id</th>\n      <th>user_id</th>\n      <th>order_amount</th>\n      <th>total_items</th>\n      <th>payment_method</th>\n      <th>created_at</th>\n      <th>per_unit_price</th>\n    </tr>\n  </thead>\n  <tbody>\n    <tr>\n      <th>160</th>\n      <td>161</td>\n      <td>78</td>\n      <td>990</td>\n      <td>25725</td>\n      <td>1</td>\n      <td>credit_card</td>\n      <td>2017-03-12 5:56:57</td>\n      <td>25725.0</td>\n    </tr>\n    <tr>\n      <th>490</th>\n      <td>491</td>\n      <td>78</td>\n      <td>936</td>\n      <td>51450</td>\n      <td>2</td>\n      <td>debit</td>\n      <td>2017-03-26 17:08:19</td>\n      <td>25725.0</td>\n    </tr>\n    <tr>\n      <th>493</th>\n      <td>494</td>\n      <td>78</td>\n      <td>983</td>\n      <td>51450</td>\n      <td>2</td>\n      <td>cash</td>\n      <td>2017-03-16 21:39:35</td>\n      <td>25725.0</td>\n    </tr>\n    <tr>\n      <th>511</th>\n      <td>512</td>\n      <td>78</td>\n      <td>967</td>\n      <td>51450</td>\n      <td>2</td>\n      <td>cash</td>\n      <td>2017-03-09 7:23:14</td>\n      <td>25725.0</td>\n    </tr>\n    <tr>\n      <th>617</th>\n      <td>618</td>\n      <td>78</td>\n      <td>760</td>\n      <td>51450</td>\n      <td>2</td>\n      <td>cash</td>\n      <td>2017-03-18 11:18:42</td>\n      <td>25725.0</td>\n    </tr>\n    <tr>\n      <th>691</th>\n      <td>692</td>\n      <td>78</td>\n      <td>878</td>\n      <td>154350</td>\n      <td>6</td>\n      <td>debit</td>\n      <td>2017-03-27 22:51:43</td>\n      <td>25725.0</td>\n    </tr>\n    <tr>\n      <th>1056</th>\n      <td>1057</td>\n      <td>78</td>\n      <td>800</td>\n      <td>25725</td>\n      <td>1</td>\n      <td>debit</td>\n      <td>2017-03-15 10:16:45</td>\n      <td>25725.0</td>\n    </tr>\n    <tr>\n      <th>1193</th>\n      <td>1194</td>\n      <td>78</td>\n      <td>944</td>\n      <td>25725</td>\n      <td>1</td>\n      <td>debit</td>\n      <td>2017-03-16 16:38:26</td>\n      <td>25725.0</td>\n    </tr>\n    <tr>\n      <th>1204</th>\n      <td>1205</td>\n      <td>78</td>\n      <td>970</td>\n      <td>25725</td>\n      <td>1</td>\n      <td>credit_card</td>\n      <td>2017-03-17 22:32:21</td>\n      <td>25725.0</td>\n    </tr>\n    <tr>\n      <th>1259</th>\n      <td>1260</td>\n      <td>78</td>\n      <td>775</td>\n      <td>77175</td>\n      <td>3</td>\n      <td>credit_card</td>\n      <td>2017-03-27 9:27:20</td>\n      <td>25725.0</td>\n    </tr>\n    <tr>\n      <th>1384</th>\n      <td>1385</td>\n      <td>78</td>\n      <td>867</td>\n      <td>25725</td>\n      <td>1</td>\n      <td>cash</td>\n      <td>2017-03-17 16:38:06</td>\n      <td>25725.0</td>\n    </tr>\n    <tr>\n      <th>1419</th>\n      <td>1420</td>\n      <td>78</td>\n      <td>912</td>\n      <td>25725</td>\n      <td>1</td>\n      <td>cash</td>\n      <td>2017-03-30 12:23:43</td>\n      <td>25725.0</td>\n    </tr>\n    <tr>\n      <th>1452</th>\n      <td>1453</td>\n      <td>78</td>\n      <td>812</td>\n      <td>25725</td>\n      <td>1</td>\n      <td>credit_card</td>\n      <td>2017-03-17 18:09:54</td>\n      <td>25725.0</td>\n    </tr>\n    <tr>\n      <th>1529</th>\n      <td>1530</td>\n      <td>78</td>\n      <td>810</td>\n      <td>51450</td>\n      <td>2</td>\n      <td>cash</td>\n      <td>2017-03-29 7:12:01</td>\n      <td>25725.0</td>\n    </tr>\n    <tr>\n      <th>2270</th>\n      <td>2271</td>\n      <td>78</td>\n      <td>855</td>\n      <td>25725</td>\n      <td>1</td>\n      <td>credit_card</td>\n      <td>2017-03-14 23:58:22</td>\n      <td>25725.0</td>\n    </tr>\n    <tr>\n      <th>2452</th>\n      <td>2453</td>\n      <td>78</td>\n      <td>709</td>\n      <td>51450</td>\n      <td>2</td>\n      <td>cash</td>\n      <td>2017-03-27 11:04:04</td>\n      <td>25725.0</td>\n    </tr>\n    <tr>\n      <th>2492</th>\n      <td>2493</td>\n      <td>78</td>\n      <td>834</td>\n      <td>102900</td>\n      <td>4</td>\n      <td>debit</td>\n      <td>2017-03-04 4:37:34</td>\n      <td>25725.0</td>\n    </tr>\n    <tr>\n      <th>2495</th>\n      <td>2496</td>\n      <td>78</td>\n      <td>707</td>\n      <td>51450</td>\n      <td>2</td>\n      <td>cash</td>\n      <td>2017-03-26 4:38:52</td>\n      <td>25725.0</td>\n    </tr>\n    <tr>\n      <th>2512</th>\n      <td>2513</td>\n      <td>78</td>\n      <td>935</td>\n      <td>51450</td>\n      <td>2</td>\n      <td>debit</td>\n      <td>2017-03-18 18:57:13</td>\n      <td>25725.0</td>\n    </tr>\n    <tr>\n      <th>2548</th>\n      <td>2549</td>\n      <td>78</td>\n      <td>861</td>\n      <td>25725</td>\n      <td>1</td>\n      <td>cash</td>\n      <td>2017-03-17 19:36:00</td>\n      <td>25725.0</td>\n    </tr>\n    <tr>\n      <th>2564</th>\n      <td>2565</td>\n      <td>78</td>\n      <td>915</td>\n      <td>77175</td>\n      <td>3</td>\n      <td>debit</td>\n      <td>2017-03-25 1:19:35</td>\n      <td>25725.0</td>\n    </tr>\n    <tr>\n      <th>2690</th>\n      <td>2691</td>\n      <td>78</td>\n      <td>962</td>\n      <td>77175</td>\n      <td>3</td>\n      <td>debit</td>\n      <td>2017-03-22 7:33:25</td>\n      <td>25725.0</td>\n    </tr>\n    <tr>\n      <th>2773</th>\n      <td>2774</td>\n      <td>78</td>\n      <td>890</td>\n      <td>25725</td>\n      <td>1</td>\n      <td>cash</td>\n      <td>2017-03-26 10:36:43</td>\n      <td>25725.0</td>\n    </tr>\n    <tr>\n      <th>2818</th>\n      <td>2819</td>\n      <td>78</td>\n      <td>869</td>\n      <td>51450</td>\n      <td>2</td>\n      <td>debit</td>\n      <td>2017-03-17 6:25:51</td>\n      <td>25725.0</td>\n    </tr>\n    <tr>\n      <th>2821</th>\n      <td>2822</td>\n      <td>78</td>\n      <td>814</td>\n      <td>51450</td>\n      <td>2</td>\n      <td>cash</td>\n      <td>2017-03-02 17:13:25</td>\n      <td>25725.0</td>\n    </tr>\n    <tr>\n      <th>2906</th>\n      <td>2907</td>\n      <td>78</td>\n      <td>817</td>\n      <td>77175</td>\n      <td>3</td>\n      <td>debit</td>\n      <td>2017-03-16 3:45:46</td>\n      <td>25725.0</td>\n    </tr>\n    <tr>\n      <th>2922</th>\n      <td>2923</td>\n      <td>78</td>\n      <td>740</td>\n      <td>25725</td>\n      <td>1</td>\n      <td>debit</td>\n      <td>2017-03-12 20:10:58</td>\n      <td>25725.0</td>\n    </tr>\n    <tr>\n      <th>3085</th>\n      <td>3086</td>\n      <td>78</td>\n      <td>910</td>\n      <td>25725</td>\n      <td>1</td>\n      <td>cash</td>\n      <td>2017-03-26 1:59:27</td>\n      <td>25725.0</td>\n    </tr>\n    <tr>\n      <th>3101</th>\n      <td>3102</td>\n      <td>78</td>\n      <td>855</td>\n      <td>51450</td>\n      <td>2</td>\n      <td>credit_card</td>\n      <td>2017-03-21 5:10:34</td>\n      <td>25725.0</td>\n    </tr>\n    <tr>\n      <th>3151</th>\n      <td>3152</td>\n      <td>78</td>\n      <td>745</td>\n      <td>25725</td>\n      <td>1</td>\n      <td>credit_card</td>\n      <td>2017-03-18 13:13:07</td>\n      <td>25725.0</td>\n    </tr>\n    <tr>\n      <th>3167</th>\n      <td>3168</td>\n      <td>78</td>\n      <td>927</td>\n      <td>51450</td>\n      <td>2</td>\n      <td>cash</td>\n      <td>2017-03-12 12:23:08</td>\n      <td>25725.0</td>\n    </tr>\n    <tr>\n      <th>3403</th>\n      <td>3404</td>\n      <td>78</td>\n      <td>928</td>\n      <td>77175</td>\n      <td>3</td>\n      <td>debit</td>\n      <td>2017-03-16 9:45:05</td>\n      <td>25725.0</td>\n    </tr>\n    <tr>\n      <th>3440</th>\n      <td>3441</td>\n      <td>78</td>\n      <td>982</td>\n      <td>25725</td>\n      <td>1</td>\n      <td>debit</td>\n      <td>2017-03-19 19:02:54</td>\n      <td>25725.0</td>\n    </tr>\n    <tr>\n      <th>3705</th>\n      <td>3706</td>\n      <td>78</td>\n      <td>828</td>\n      <td>51450</td>\n      <td>2</td>\n      <td>credit_card</td>\n      <td>2017-03-14 20:43:15</td>\n      <td>25725.0</td>\n    </tr>\n    <tr>\n      <th>3724</th>\n      <td>3725</td>\n      <td>78</td>\n      <td>766</td>\n      <td>77175</td>\n      <td>3</td>\n      <td>credit_card</td>\n      <td>2017-03-16 14:13:26</td>\n      <td>25725.0</td>\n    </tr>\n    <tr>\n      <th>3780</th>\n      <td>3781</td>\n      <td>78</td>\n      <td>889</td>\n      <td>25725</td>\n      <td>1</td>\n      <td>cash</td>\n      <td>2017-03-11 21:14:50</td>\n      <td>25725.0</td>\n    </tr>\n    <tr>\n      <th>4040</th>\n      <td>4041</td>\n      <td>78</td>\n      <td>852</td>\n      <td>25725</td>\n      <td>1</td>\n      <td>cash</td>\n      <td>2017-03-02 14:31:12</td>\n      <td>25725.0</td>\n    </tr>\n    <tr>\n      <th>4079</th>\n      <td>4080</td>\n      <td>78</td>\n      <td>946</td>\n      <td>51450</td>\n      <td>2</td>\n      <td>cash</td>\n      <td>2017-03-20 21:14:00</td>\n      <td>25725.0</td>\n    </tr>\n    <tr>\n      <th>4192</th>\n      <td>4193</td>\n      <td>78</td>\n      <td>787</td>\n      <td>77175</td>\n      <td>3</td>\n      <td>credit_card</td>\n      <td>2017-03-18 9:25:32</td>\n      <td>25725.0</td>\n    </tr>\n    <tr>\n      <th>4311</th>\n      <td>4312</td>\n      <td>78</td>\n      <td>960</td>\n      <td>51450</td>\n      <td>2</td>\n      <td>debit</td>\n      <td>2017-03-01 3:02:10</td>\n      <td>25725.0</td>\n    </tr>\n    <tr>\n      <th>4412</th>\n      <td>4413</td>\n      <td>78</td>\n      <td>756</td>\n      <td>51450</td>\n      <td>2</td>\n      <td>debit</td>\n      <td>2017-03-02 4:13:39</td>\n      <td>25725.0</td>\n    </tr>\n    <tr>\n      <th>4420</th>\n      <td>4421</td>\n      <td>78</td>\n      <td>969</td>\n      <td>77175</td>\n      <td>3</td>\n      <td>debit</td>\n      <td>2017-03-09 15:21:35</td>\n      <td>25725.0</td>\n    </tr>\n    <tr>\n      <th>4505</th>\n      <td>4506</td>\n      <td>78</td>\n      <td>866</td>\n      <td>25725</td>\n      <td>1</td>\n      <td>debit</td>\n      <td>2017-03-22 22:06:01</td>\n      <td>25725.0</td>\n    </tr>\n    <tr>\n      <th>4584</th>\n      <td>4585</td>\n      <td>78</td>\n      <td>997</td>\n      <td>25725</td>\n      <td>1</td>\n      <td>cash</td>\n      <td>2017-03-25 21:48:44</td>\n      <td>25725.0</td>\n    </tr>\n    <tr>\n      <th>4715</th>\n      <td>4716</td>\n      <td>78</td>\n      <td>818</td>\n      <td>77175</td>\n      <td>3</td>\n      <td>debit</td>\n      <td>2017-03-05 5:10:44</td>\n      <td>25725.0</td>\n    </tr>\n    <tr>\n      <th>4918</th>\n      <td>4919</td>\n      <td>78</td>\n      <td>823</td>\n      <td>25725</td>\n      <td>1</td>\n      <td>cash</td>\n      <td>2017-03-15 13:26:46</td>\n      <td>25725.0</td>\n    </tr>\n  </tbody>\n</table>\n</div>",
      "text/plain": "      order_id  shop_id  user_id  order_amount  total_items payment_method  \\\n160        161       78      990         25725            1    credit_card   \n490        491       78      936         51450            2          debit   \n493        494       78      983         51450            2           cash   \n511        512       78      967         51450            2           cash   \n617        618       78      760         51450            2           cash   \n691        692       78      878        154350            6          debit   \n1056      1057       78      800         25725            1          debit   \n1193      1194       78      944         25725            1          debit   \n1204      1205       78      970         25725            1    credit_card   \n1259      1260       78      775         77175            3    credit_card   \n1384      1385       78      867         25725            1           cash   \n1419      1420       78      912         25725            1           cash   \n1452      1453       78      812         25725            1    credit_card   \n1529      1530       78      810         51450            2           cash   \n2270      2271       78      855         25725            1    credit_card   \n2452      2453       78      709         51450            2           cash   \n2492      2493       78      834        102900            4          debit   \n2495      2496       78      707         51450            2           cash   \n2512      2513       78      935         51450            2          debit   \n2548      2549       78      861         25725            1           cash   \n2564      2565       78      915         77175            3          debit   \n2690      2691       78      962         77175            3          debit   \n2773      2774       78      890         25725            1           cash   \n2818      2819       78      869         51450            2          debit   \n2821      2822       78      814         51450            2           cash   \n2906      2907       78      817         77175            3          debit   \n2922      2923       78      740         25725            1          debit   \n3085      3086       78      910         25725            1           cash   \n3101      3102       78      855         51450            2    credit_card   \n3151      3152       78      745         25725            1    credit_card   \n3167      3168       78      927         51450            2           cash   \n3403      3404       78      928         77175            3          debit   \n3440      3441       78      982         25725            1          debit   \n3705      3706       78      828         51450            2    credit_card   \n3724      3725       78      766         77175            3    credit_card   \n3780      3781       78      889         25725            1           cash   \n4040      4041       78      852         25725            1           cash   \n4079      4080       78      946         51450            2           cash   \n4192      4193       78      787         77175            3    credit_card   \n4311      4312       78      960         51450            2          debit   \n4412      4413       78      756         51450            2          debit   \n4420      4421       78      969         77175            3          debit   \n4505      4506       78      866         25725            1          debit   \n4584      4585       78      997         25725            1           cash   \n4715      4716       78      818         77175            3          debit   \n4918      4919       78      823         25725            1           cash   \n\n               created_at  per_unit_price  \n160    2017-03-12 5:56:57         25725.0  \n490   2017-03-26 17:08:19         25725.0  \n493   2017-03-16 21:39:35         25725.0  \n511    2017-03-09 7:23:14         25725.0  \n617   2017-03-18 11:18:42         25725.0  \n691   2017-03-27 22:51:43         25725.0  \n1056  2017-03-15 10:16:45         25725.0  \n1193  2017-03-16 16:38:26         25725.0  \n1204  2017-03-17 22:32:21         25725.0  \n1259   2017-03-27 9:27:20         25725.0  \n1384  2017-03-17 16:38:06         25725.0  \n1419  2017-03-30 12:23:43         25725.0  \n1452  2017-03-17 18:09:54         25725.0  \n1529   2017-03-29 7:12:01         25725.0  \n2270  2017-03-14 23:58:22         25725.0  \n2452  2017-03-27 11:04:04         25725.0  \n2492   2017-03-04 4:37:34         25725.0  \n2495   2017-03-26 4:38:52         25725.0  \n2512  2017-03-18 18:57:13         25725.0  \n2548  2017-03-17 19:36:00         25725.0  \n2564   2017-03-25 1:19:35         25725.0  \n2690   2017-03-22 7:33:25         25725.0  \n2773  2017-03-26 10:36:43         25725.0  \n2818   2017-03-17 6:25:51         25725.0  \n2821  2017-03-02 17:13:25         25725.0  \n2906   2017-03-16 3:45:46         25725.0  \n2922  2017-03-12 20:10:58         25725.0  \n3085   2017-03-26 1:59:27         25725.0  \n3101   2017-03-21 5:10:34         25725.0  \n3151  2017-03-18 13:13:07         25725.0  \n3167  2017-03-12 12:23:08         25725.0  \n3403   2017-03-16 9:45:05         25725.0  \n3440  2017-03-19 19:02:54         25725.0  \n3705  2017-03-14 20:43:15         25725.0  \n3724  2017-03-16 14:13:26         25725.0  \n3780  2017-03-11 21:14:50         25725.0  \n4040  2017-03-02 14:31:12         25725.0  \n4079  2017-03-20 21:14:00         25725.0  \n4192   2017-03-18 9:25:32         25725.0  \n4311   2017-03-01 3:02:10         25725.0  \n4412   2017-03-02 4:13:39         25725.0  \n4420  2017-03-09 15:21:35         25725.0  \n4505  2017-03-22 22:06:01         25725.0  \n4584  2017-03-25 21:48:44         25725.0  \n4715   2017-03-05 5:10:44         25725.0  \n4918  2017-03-15 13:26:46         25725.0  "
     },
     "execution_count": 15,
     "metadata": {},
     "output_type": "execute_result"
    }
   ],
   "source": [
    "data.loc[data['per_unit_price']>400]"
   ]
  },
  {
   "cell_type": "code",
   "execution_count": 20,
   "metadata": {},
   "outputs": [
    {
     "data": {
      "text/plain": "<pandas.core.groupby.generic.DataFrameGroupBy object at 0x11cd0c8b0>"
     },
     "execution_count": 20,
     "metadata": {},
     "output_type": "execute_result"
    }
   ],
   "source": [
    "df"
   ]
  },
  {
   "cell_type": "code",
   "execution_count": null,
   "metadata": {},
   "outputs": [],
   "source": []
  }
 ]
}